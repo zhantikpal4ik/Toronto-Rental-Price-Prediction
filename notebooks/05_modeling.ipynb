{
 "cells": [
  {
   "cell_type": "markdown",
   "id": "4e699eba",
   "metadata": {},
   "source": [
    "# 05 - Modeling"
   ]
  },
  {
   "cell_type": "code",
   "execution_count": 1,
   "id": "4b2f6323",
   "metadata": {},
   "outputs": [
    {
     "name": "stdout",
     "output_type": "stream",
     "text": [
      "(89, 27)\n"
     ]
    },
    {
     "data": {
      "text/html": [
       "<div>\n",
       "<style scoped>\n",
       "    .dataframe tbody tr th:only-of-type {\n",
       "        vertical-align: middle;\n",
       "    }\n",
       "\n",
       "    .dataframe tbody tr th {\n",
       "        vertical-align: top;\n",
       "    }\n",
       "\n",
       "    .dataframe thead th {\n",
       "        text-align: right;\n",
       "    }\n",
       "</style>\n",
       "<table border=\"1\" class=\"dataframe\">\n",
       "  <thead>\n",
       "    <tr style=\"text-align: right;\">\n",
       "      <th></th>\n",
       "      <th>title</th>\n",
       "      <th>price</th>\n",
       "      <th>sqft</th>\n",
       "      <th>bedrooms</th>\n",
       "      <th>bathrooms</th>\n",
       "      <th>address</th>\n",
       "      <th>neighbourhood</th>\n",
       "      <th>url</th>\n",
       "      <th>source</th>\n",
       "      <th>url_canon</th>\n",
       "      <th>...</th>\n",
       "      <th>formatted_address</th>\n",
       "      <th>nearest_station</th>\n",
       "      <th>dist_km_to_station</th>\n",
       "      <th>price_per_sqft</th>\n",
       "      <th>sqft_per_bed</th>\n",
       "      <th>bed_bath_ratio</th>\n",
       "      <th>rooms_total</th>\n",
       "      <th>nearest_university</th>\n",
       "      <th>dist_km_to_university</th>\n",
       "      <th>distance_to_union</th>\n",
       "    </tr>\n",
       "  </thead>\n",
       "  <tbody>\n",
       "    <tr>\n",
       "      <th>0</th>\n",
       "      <td>NaN</td>\n",
       "      <td>2995.0</td>\n",
       "      <td>750.0</td>\n",
       "      <td>1.5</td>\n",
       "      <td>1.0</td>\n",
       "      <td>35 Mariner Terr - Toronto, ON</td>\n",
       "      <td>NaN</td>\n",
       "      <td>NaN</td>\n",
       "      <td>NaN</td>\n",
       "      <td>NaN</td>\n",
       "      <td>...</td>\n",
       "      <td>35 Mariner Terrace, Toronto, ON M5V 3V9, Canada</td>\n",
       "      <td>St. Andrew</td>\n",
       "      <td>1.006189</td>\n",
       "      <td>3.993333</td>\n",
       "      <td>500.0</td>\n",
       "      <td>1.5</td>\n",
       "      <td>2.5</td>\n",
       "      <td>OCAD University</td>\n",
       "      <td>1.597374</td>\n",
       "      <td>1.377788</td>\n",
       "    </tr>\n",
       "    <tr>\n",
       "      <th>1</th>\n",
       "      <td>NaN</td>\n",
       "      <td>2800.0</td>\n",
       "      <td>600.0</td>\n",
       "      <td>1.0</td>\n",
       "      <td>1.0</td>\n",
       "      <td>224 King Street West - Toronto, ON</td>\n",
       "      <td>NaN</td>\n",
       "      <td>NaN</td>\n",
       "      <td>NaN</td>\n",
       "      <td>NaN</td>\n",
       "      <td>...</td>\n",
       "      <td>2906-224 King St W, Toronto, ON M5H 0A6, Canada</td>\n",
       "      <td>St. Andrew</td>\n",
       "      <td>0.166247</td>\n",
       "      <td>4.666667</td>\n",
       "      <td>600.0</td>\n",
       "      <td>1.0</td>\n",
       "      <td>2.0</td>\n",
       "      <td>OCAD University</td>\n",
       "      <td>0.862257</td>\n",
       "      <td>1.263594</td>\n",
       "    </tr>\n",
       "    <tr>\n",
       "      <th>2</th>\n",
       "      <td>NaN</td>\n",
       "      <td>2095.0</td>\n",
       "      <td>500.0</td>\n",
       "      <td>1.0</td>\n",
       "      <td>1.0</td>\n",
       "      <td>11 Brunel Court - Toronto, ON</td>\n",
       "      <td>NaN</td>\n",
       "      <td>NaN</td>\n",
       "      <td>NaN</td>\n",
       "      <td>NaN</td>\n",
       "      <td>...</td>\n",
       "      <td>11 Brunel Ct, Toronto, ON M5V 3Y3, Canada</td>\n",
       "      <td>St. Andrew</td>\n",
       "      <td>1.105247</td>\n",
       "      <td>4.190000</td>\n",
       "      <td>500.0</td>\n",
       "      <td>1.0</td>\n",
       "      <td>2.0</td>\n",
       "      <td>OCAD University</td>\n",
       "      <td>1.649729</td>\n",
       "      <td>1.479241</td>\n",
       "    </tr>\n",
       "    <tr>\n",
       "      <th>3</th>\n",
       "      <td>NaN</td>\n",
       "      <td>4200.0</td>\n",
       "      <td>1200.0</td>\n",
       "      <td>2.0</td>\n",
       "      <td>2.0</td>\n",
       "      <td>85 Queens Wharf Road - Toronto, ON</td>\n",
       "      <td>NaN</td>\n",
       "      <td>NaN</td>\n",
       "      <td>NaN</td>\n",
       "      <td>NaN</td>\n",
       "      <td>...</td>\n",
       "      <td>85 Queens Wharf Rd, Toronto, ON M5V 0J9, Canada</td>\n",
       "      <td>St. Andrew</td>\n",
       "      <td>1.441306</td>\n",
       "      <td>3.500000</td>\n",
       "      <td>600.0</td>\n",
       "      <td>1.0</td>\n",
       "      <td>4.0</td>\n",
       "      <td>OCAD University</td>\n",
       "      <td>1.764275</td>\n",
       "      <td>1.924263</td>\n",
       "    </tr>\n",
       "    <tr>\n",
       "      <th>4</th>\n",
       "      <td>NaN</td>\n",
       "      <td>2300.0</td>\n",
       "      <td>600.0</td>\n",
       "      <td>1.0</td>\n",
       "      <td>1.0</td>\n",
       "      <td>81 Navy Wharf Court - Toronto, ON</td>\n",
       "      <td>NaN</td>\n",
       "      <td>NaN</td>\n",
       "      <td>NaN</td>\n",
       "      <td>NaN</td>\n",
       "      <td>...</td>\n",
       "      <td>81 Navy Wharf Ct, Toronto, ON M5V 3M5, Canada</td>\n",
       "      <td>St. Andrew</td>\n",
       "      <td>0.849278</td>\n",
       "      <td>3.833333</td>\n",
       "      <td>600.0</td>\n",
       "      <td>1.0</td>\n",
       "      <td>2.0</td>\n",
       "      <td>OCAD University</td>\n",
       "      <td>1.447524</td>\n",
       "      <td>1.324250</td>\n",
       "    </tr>\n",
       "  </tbody>\n",
       "</table>\n",
       "<p>5 rows × 27 columns</p>\n",
       "</div>"
      ],
      "text/plain": [
       "   title   price    sqft  bedrooms  bathrooms  \\\n",
       "0    NaN  2995.0   750.0       1.5        1.0   \n",
       "1    NaN  2800.0   600.0       1.0        1.0   \n",
       "2    NaN  2095.0   500.0       1.0        1.0   \n",
       "3    NaN  4200.0  1200.0       2.0        2.0   \n",
       "4    NaN  2300.0   600.0       1.0        1.0   \n",
       "\n",
       "                              address  neighbourhood  url  source  url_canon  \\\n",
       "0       35 Mariner Terr - Toronto, ON            NaN  NaN     NaN        NaN   \n",
       "1  224 King Street West - Toronto, ON            NaN  NaN     NaN        NaN   \n",
       "2       11 Brunel Court - Toronto, ON            NaN  NaN     NaN        NaN   \n",
       "3  85 Queens Wharf Road - Toronto, ON            NaN  NaN     NaN        NaN   \n",
       "4   81 Navy Wharf Court - Toronto, ON            NaN  NaN     NaN        NaN   \n",
       "\n",
       "   ...                                formatted_address  nearest_station  \\\n",
       "0  ...  35 Mariner Terrace, Toronto, ON M5V 3V9, Canada       St. Andrew   \n",
       "1  ...  2906-224 King St W, Toronto, ON M5H 0A6, Canada       St. Andrew   \n",
       "2  ...        11 Brunel Ct, Toronto, ON M5V 3Y3, Canada       St. Andrew   \n",
       "3  ...  85 Queens Wharf Rd, Toronto, ON M5V 0J9, Canada       St. Andrew   \n",
       "4  ...    81 Navy Wharf Ct, Toronto, ON M5V 3M5, Canada       St. Andrew   \n",
       "\n",
       "   dist_km_to_station price_per_sqft  sqft_per_bed  bed_bath_ratio  \\\n",
       "0            1.006189       3.993333         500.0             1.5   \n",
       "1            0.166247       4.666667         600.0             1.0   \n",
       "2            1.105247       4.190000         500.0             1.0   \n",
       "3            1.441306       3.500000         600.0             1.0   \n",
       "4            0.849278       3.833333         600.0             1.0   \n",
       "\n",
       "  rooms_total nearest_university dist_km_to_university  distance_to_union  \n",
       "0         2.5    OCAD University              1.597374           1.377788  \n",
       "1         2.0    OCAD University              0.862257           1.263594  \n",
       "2         2.0    OCAD University              1.649729           1.479241  \n",
       "3         4.0    OCAD University              1.764275           1.924263  \n",
       "4         2.0    OCAD University              1.447524           1.324250  \n",
       "\n",
       "[5 rows x 27 columns]"
      ]
     },
     "execution_count": 1,
     "metadata": {},
     "output_type": "execute_result"
    }
   ],
   "source": [
    "import pandas as pd\n",
    "from pathlib import Path\n",
    "\n",
    "PROCESSED_DIR = Path(\"../data/processed\")  # или как у тебя структура\n",
    "df = pd.read_csv(PROCESSED_DIR / \"rentals_features.csv\")\n",
    "print(df.shape)\n",
    "df.head()"
   ]
  },
  {
   "cell_type": "markdown",
   "id": "ebc68b2d",
   "metadata": {},
   "source": [
    "## 1) Define Target + Features"
   ]
  },
  {
   "cell_type": "code",
   "execution_count": 5,
   "id": "1e1d9cde",
   "metadata": {},
   "outputs": [],
   "source": [
    "target = \"price\"   # или \"price_per_sqft\"\n",
    "features = [\"sqft\", \"bedrooms\", \"bathrooms\", \"bed_bath_ratio\",\n",
    "            \"dist_km_to_station\", \"distance_to_union\", \"dist_km_to_university\"]\n",
    "X = df[features]\n",
    "y = df[target]\n"
   ]
  },
  {
   "cell_type": "code",
   "execution_count": 6,
   "id": "71af4ef9",
   "metadata": {},
   "outputs": [],
   "source": [
    "from sklearn.model_selection import train_test_split\n",
    "\n",
    "X_train, X_test, y_train, y_test = train_test_split(\n",
    "    X, y, test_size=0.2, random_state=42\n",
    ")"
   ]
  },
  {
   "cell_type": "code",
   "execution_count": 7,
   "id": "ab4c8063",
   "metadata": {},
   "outputs": [
    {
     "name": "stdout",
     "output_type": "stream",
     "text": [
      "Linear Regression\n",
      "MAE: 245.99824217248923\n",
      "RMSE: 292.5629949677066\n",
      "R²: 0.15331494956405478\n"
     ]
    }
   ],
   "source": [
    "from sklearn.linear_model import LinearRegression\n",
    "from sklearn.metrics import mean_absolute_error, mean_squared_error, r2_score\n",
    "import numpy as np\n",
    "\n",
    "linreg = LinearRegression()\n",
    "linreg.fit(X_train, y_train)\n",
    "\n",
    "y_pred = linreg.predict(X_test)\n",
    "\n",
    "print(\"Linear Regression\")\n",
    "print(\"MAE:\", mean_absolute_error(y_test, y_pred))\n",
    "print(\"RMSE:\", np.sqrt(mean_squared_error(y_test, y_pred)))\n",
    "print(\"R²:\", r2_score(y_test, y_pred))\n"
   ]
  },
  {
   "cell_type": "code",
   "execution_count": 8,
   "id": "db468695",
   "metadata": {},
   "outputs": [
    {
     "name": "stdout",
     "output_type": "stream",
     "text": [
      "Linear Regression (log target)\n",
      "MAE: 250.02723300409\n",
      "RMSE: 295.39473833231233\n",
      "R²: 0.13684534758482658\n"
     ]
    }
   ],
   "source": [
    "import numpy as np\n",
    "\n",
    "y_train_log = np.log1p(y_train)  # log(1+x) to avoid 0 issues\n",
    "y_test_log = np.log1p(y_test)\n",
    "\n",
    "linreg_log = LinearRegression()\n",
    "linreg_log.fit(X_train, y_train_log)\n",
    "\n",
    "y_pred_log = linreg_log.predict(X_test)\n",
    "y_pred_exp = np.expm1(y_pred_log)  # back-transform\n",
    "\n",
    "print(\"Linear Regression (log target)\")\n",
    "print(\"MAE:\", mean_absolute_error(y_test, y_pred_exp))\n",
    "print(\"RMSE:\", np.sqrt(mean_squared_error(y_test, y_pred_exp)))\n",
    "print(\"R²:\", r2_score(y_test, y_pred_exp))\n"
   ]
  },
  {
   "cell_type": "code",
   "execution_count": 9,
   "id": "ede972c1",
   "metadata": {},
   "outputs": [
    {
     "name": "stdout",
     "output_type": "stream",
     "text": [
      "Random Forest\n",
      "MAE: 222.10166666666666\n",
      "RMSE: 289.3105901151525\n",
      "R²: 0.17203540231464964\n"
     ]
    }
   ],
   "source": [
    "from sklearn.ensemble import RandomForestRegressor\n",
    "\n",
    "rf = RandomForestRegressor(n_estimators=200, random_state=42)\n",
    "rf.fit(X_train, y_train)\n",
    "\n",
    "y_pred_rf = rf.predict(X_test)\n",
    "\n",
    "print(\"Random Forest\")\n",
    "print(\"MAE:\", mean_absolute_error(y_test, y_pred_rf))\n",
    "print(\"RMSE:\", np.sqrt(mean_squared_error(y_test, y_pred_rf)))\n",
    "print(\"R²:\", r2_score(y_test, y_pred_rf))\n"
   ]
  },
  {
   "cell_type": "code",
   "execution_count": null,
   "id": "20f489ba",
   "metadata": {},
   "outputs": [],
   "source": [
    "import matplotlib.pyplot as plt\n",
    "import seaborn as sns\n",
    "\n",
    "feat_imp = pd.Series(rf.feature_importances_, index=features).sort_values(ascending=False)\n",
    "sns.barplot(x=feat_imp, y=feat_imp.index)\n",
    "plt.title(\"Feature Importance (Random Forest)\")\n",
    "plt.show()\n"
   ]
  },
  {
   "cell_type": "code",
   "execution_count": 14,
   "id": "3706b700",
   "metadata": {},
   "outputs": [
    {
     "name": "stdout",
     "output_type": "stream",
     "text": [
      "Random Forest (tuned)\n",
      "MAE: 227.1971163580247\n",
      "RMSE: 298.1983147944143\n",
      "R²: 0.12038328228448081\n"
     ]
    }
   ],
   "source": [
    "rf_tuned = RandomForestRegressor(\n",
    "    n_estimators=500,  # больше деревьев\n",
    "    max_depth=12,      # ограничим глубину\n",
    "    random_state=42\n",
    ")\n",
    "rf_tuned.fit(X_train, y_train)\n",
    "y_pred_rf_tuned = rf_tuned.predict(X_test)\n",
    "\n",
    "print(\"Random Forest (tuned)\")\n",
    "print(\"MAE:\", mean_absolute_error(y_test, y_pred_rf_tuned))\n",
    "print(\"RMSE:\", np.sqrt(mean_squared_error(y_test, y_pred_rf_tuned)))\n",
    "print(\"R²:\", r2_score(y_test, y_pred_rf_tuned))\n",
    "\n"
   ]
  },
  {
   "cell_type": "code",
   "execution_count": 15,
   "id": "f31ab2db",
   "metadata": {},
   "outputs": [
    {
     "name": "stdout",
     "output_type": "stream",
     "text": [
      "Gradient Boosting\n",
      "MAE: 209.78064356432154\n",
      "RMSE: 282.7455863648133\n",
      "R²: 0.20918522650168803\n"
     ]
    }
   ],
   "source": [
    "from sklearn.ensemble import GradientBoostingRegressor\n",
    "\n",
    "gbr = GradientBoostingRegressor(\n",
    "    n_estimators=300,\n",
    "    learning_rate=0.1,\n",
    "    max_depth=4,\n",
    "    random_state=42\n",
    ")\n",
    "gbr.fit(X_train, y_train)\n",
    "y_pred_gbr = gbr.predict(X_test)\n",
    "\n",
    "print(\"Gradient Boosting\")\n",
    "print(\"MAE:\", mean_absolute_error(y_test, y_pred_gbr))\n",
    "print(\"RMSE:\", np.sqrt(mean_squared_error(y_test, y_pred_gbr)))\n",
    "print(\"R²:\", r2_score(y_test, y_pred_gbr))\n"
   ]
  },
  {
   "cell_type": "code",
   "execution_count": 16,
   "id": "95fb1482",
   "metadata": {},
   "outputs": [
    {
     "name": "stdout",
     "output_type": "stream",
     "text": [
      "Random Forest (target = price_per_sqft)\n",
      "MAE: 0.31684506204001406\n",
      "RMSE: 0.4044404016600365\n",
      "R²: 0.5072826540350057\n"
     ]
    }
   ],
   "source": [
    "target = \"price_per_sqft\"\n",
    "X = df[features]\n",
    "y = df[target]\n",
    "\n",
    "X_train, X_test, y_train, y_test = train_test_split(\n",
    "    X, y, test_size=0.2, random_state=42\n",
    ")\n",
    "\n",
    "rf_pps = RandomForestRegressor(n_estimators=500, max_depth=12, random_state=42)\n",
    "rf_pps.fit(X_train, y_train)\n",
    "y_pred_pps = rf_pps.predict(X_test)\n",
    "\n",
    "print(\"Random Forest (target = price_per_sqft)\")\n",
    "print(\"MAE:\", mean_absolute_error(y_test, y_pred_pps))\n",
    "print(\"RMSE:\", np.sqrt(mean_squared_error(y_test, y_pred_pps)))\n",
    "print(\"R²:\", r2_score(y_test, y_pred_pps))\n"
   ]
  },
  {
   "cell_type": "code",
   "execution_count": 17,
   "id": "20963b0b",
   "metadata": {},
   "outputs": [
    {
     "name": "stdout",
     "output_type": "stream",
     "text": [
      "Linear Regression (price_per_sqft)\n",
      "MAE: 0.34943860492996365\n",
      "RMSE: 0.43910480458362\n",
      "R²: 0.4192019308940119\n"
     ]
    }
   ],
   "source": [
    "from sklearn.linear_model import LinearRegression\n",
    "\n",
    "target = \"price_per_sqft\"\n",
    "X = df[features]\n",
    "y = df[target]\n",
    "\n",
    "X_train, X_test, y_train, y_test = train_test_split(\n",
    "    X, y, test_size=0.2, random_state=42\n",
    ")\n",
    "\n",
    "lin_pps = LinearRegression()\n",
    "lin_pps.fit(X_train, y_train)\n",
    "y_pred_lin_pps = lin_pps.predict(X_test)\n",
    "\n",
    "print(\"Linear Regression (price_per_sqft)\")\n",
    "print(\"MAE:\", mean_absolute_error(y_test, y_pred_lin_pps))\n",
    "print(\"RMSE:\", np.sqrt(mean_squared_error(y_test, y_pred_lin_pps)))\n",
    "print(\"R²:\", r2_score(y_test, y_pred_lin_pps))\n"
   ]
  },
  {
   "cell_type": "code",
   "execution_count": 18,
   "id": "57c1e776",
   "metadata": {},
   "outputs": [
    {
     "name": "stdout",
     "output_type": "stream",
     "text": [
      "Linear Regression (log price_per_sqft)\n",
      "MAE: 0.3733926421463931\n",
      "RMSE: 0.4727805510442575\n",
      "R²: 0.32670096704485196\n"
     ]
    }
   ],
   "source": [
    "import numpy as np\n",
    "\n",
    "y_train_log = np.log1p(y_train)\n",
    "y_test_log = np.log1p(y_test)\n",
    "\n",
    "lin_log_pps = LinearRegression()\n",
    "lin_log_pps.fit(X_train, y_train_log)\n",
    "y_pred_log_pps = lin_log_pps.predict(X_test)\n",
    "y_pred_exp_pps = np.expm1(y_pred_log_pps)\n",
    "\n",
    "print(\"Linear Regression (log price_per_sqft)\")\n",
    "print(\"MAE:\", mean_absolute_error(y_test, y_pred_exp_pps))\n",
    "print(\"RMSE:\", np.sqrt(mean_squared_error(y_test, y_pred_exp_pps)))\n",
    "print(\"R²:\", r2_score(y_test, y_pred_exp_pps))\n"
   ]
  },
  {
   "cell_type": "code",
   "execution_count": 19,
   "id": "10954962",
   "metadata": {},
   "outputs": [
    {
     "name": "stdout",
     "output_type": "stream",
     "text": [
      "Gradient Boosting (price_per_sqft)\n",
      "MAE: 0.3220345620899205\n",
      "RMSE: 0.4299314011227085\n",
      "R²: 0.44321552418892096\n"
     ]
    }
   ],
   "source": [
    "gbr_pps = GradientBoostingRegressor(\n",
    "    n_estimators=300,\n",
    "    learning_rate=0.1,\n",
    "    max_depth=4,\n",
    "    random_state=42\n",
    ")\n",
    "gbr_pps.fit(X_train, y_train)\n",
    "y_pred_gbr_pps = gbr_pps.predict(X_test)\n",
    "\n",
    "print(\"Gradient Boosting (price_per_sqft)\")\n",
    "print(\"MAE:\", mean_absolute_error(y_test, y_pred_gbr_pps))\n",
    "print(\"RMSE:\", np.sqrt(mean_squared_error(y_test, y_pred_gbr_pps)))\n",
    "print(\"R²:\", r2_score(y_test, y_pred_gbr_pps))\n"
   ]
  },
  {
   "cell_type": "code",
   "execution_count": 20,
   "id": "de5c0ed1",
   "metadata": {},
   "outputs": [
    {
     "name": "stderr",
     "output_type": "stream",
     "text": [
      "C:\\Users\\zhant\\AppData\\Local\\Temp\\ipykernel_11436\\1755172565.py:8: FutureWarning: \n",
      "\n",
      "Passing `palette` without assigning `hue` is deprecated and will be removed in v0.14.0. Assign the `y` variable to `hue` and set `legend=False` for the same effect.\n",
      "\n",
      "  sns.barplot(x=feat_imp, y=feat_imp.index, palette=\"viridis\")\n"
     ]
    },
    {
     "data": {
      "image/png": "[encoded data removed]",
      "text/plain": [
       "<Figure size 800x500 with 1 Axes>"
      ]
     },
     "metadata": {},
     "output_type": "display_data"
    },
    {
     "name": "stdout",
     "output_type": "stream",
     "text": [
      "sqft                     0.503844\n",
      "dist_km_to_station       0.205379\n",
      "distance_to_union        0.116316\n",
      "dist_km_to_university    0.097064\n",
      "bathrooms                0.052667\n",
      "bedrooms                 0.013257\n",
      "bed_bath_ratio           0.011472\n",
      "dtype: float64\n"
     ]
    }
   ],
   "source": [
    "import matplotlib.pyplot as plt\n",
    "import seaborn as sns\n",
    "\n",
    "# Берём обученный Random Forest на price_per_sqft\n",
    "feat_imp = pd.Series(rf_pps.feature_importances_, index=features).sort_values(ascending=False)\n",
    "\n",
    "plt.figure(figsize=(8,5))\n",
    "sns.barplot(x=feat_imp, y=feat_imp.index, palette=\"viridis\")\n",
    "plt.title(\"Feature Importance (Random Forest, price_per_sqft)\")\n",
    "plt.xlabel(\"Importance Score\")\n",
    "plt.ylabel(\"Features\")\n",
    "plt.show()\n",
    "\n",
    "print(feat_imp)\n"
   ]
  }
 ],
 "metadata": {
  "kernelspec": {
   "display_name": "Python 3",
   "language": "python",
   "name": "python3"
  },
  "language_info": {
   "codemirror_mode": {
    "name": "ipython",
    "version": 3
   },
   "file_extension": ".py",
   "mimetype": "text/x-python",
   "name": "python",
   "nbconvert_exporter": "python",
   "pygments_lexer": "ipython3",
   "version": "3.13.0"
  }
 },
 "nbformat": 4,
 "nbformat_minor": 5
}
